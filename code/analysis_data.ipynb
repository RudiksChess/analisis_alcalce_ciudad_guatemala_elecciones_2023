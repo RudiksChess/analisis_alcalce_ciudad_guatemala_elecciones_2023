{
 "cells": [
  {
   "cell_type": "code",
   "execution_count": 68,
   "metadata": {
    "collapsed": true,
    "ExecuteTime": {
     "start_time": "2023-06-30T20:23:06.623152Z",
     "end_time": "2023-06-30T20:23:06.625046Z"
    }
   },
   "outputs": [],
   "source": [
    "import glob\n",
    "import pandas as pd\n",
    "import re"
   ]
  },
  {
   "cell_type": "code",
   "execution_count": 101,
   "outputs": [],
   "source": [
    "directorio_json = \"/Users/rudikrompich/Git/analisis_tse_elecciones_2023/departamento/distrito_central/municipio/guatemala/corporacion_municipal/actas_procesadas\"\n",
    "directorio_json_documentos = glob.glob(directorio_json + \"/*.json\")\n",
    "directorio_trep_documento = \"/Users/rudikrompich/Git/analisis_tse_elecciones_2023/departamento/distrito_central/municipio/guatemala/corporacion_municipal/actas_csv_sistema_trep/4-CORPORACIÓN/gtm2023_e4d00m01.csv\"\n"
   ],
   "metadata": {
    "collapsed": false,
    "ExecuteTime": {
     "start_time": "2023-06-30T20:48:51.637359Z",
     "end_time": "2023-06-30T20:48:51.648439Z"
    }
   }
  },
  {
   "cell_type": "code",
   "execution_count": 108,
   "outputs": [],
   "source": [
    "df_complete_ocr = pd.DataFrame()\n",
    "for documento in directorio_json_documentos:\n",
    "    parts = documento.split('/')\n",
    "    desired_part = parts[-1]\n",
    "    numbers = re.findall(r'\\d+', desired_part)\n",
    "    centro = int(numbers[0])\n",
    "    mesa = int(numbers[1])\n",
    "    df = pd.read_json(documento)\n",
    "    df[\"CENTRO_DE_VOTACIÓN\"] = centro\n",
    "    df[\"MESA\"] = mesa\n",
    "    df_complete_ocr = pd.concat([df_complete_ocr, df])\n",
    "df_complete_ocr.columns =  ['PARTIDO', 'CANTIDAD_OCR', 'CENTRO_DE_VOTACIÓN', 'MESA']\n",
    "df_complete_ocr = df_complete_ocr[(df_complete_ocr[\"PARTIDO\"]==\"VALOR UNIONISTA\") | (df_complete_ocr[\"PARTIDO\"]==\"COMPROMISO, RENOVACION Y ORDEN\")].copy().reset_index(drop=True)\n",
    "df_complete_ocr['PARTIDO'] = df_complete_ocr['PARTIDO'].replace('COMPROMISO, RENOVACION Y ORDEN', 'CREO')\n",
    "\n"
   ],
   "metadata": {
    "collapsed": false,
    "ExecuteTime": {
     "start_time": "2023-06-30T20:54:56.907348Z",
     "end_time": "2023-06-30T20:54:59.734893Z"
    }
   }
  },
  {
   "cell_type": "code",
   "execution_count": 112,
   "outputs": [],
   "source": [
    "df_trep_partial1 = pd.read_csv(directorio_trep_documento, sep=\",\",skiprows=4)\n",
    "\n",
    "df_trep_partial1_1 = df_trep_partial1[[\"VALOR UNIONISTA\", \"MESA\",\"CENTRO_DE_VOTACIÓN\"]].copy()\n",
    "df_trep_partial1_1.rename(columns={\"VALOR UNIONISTA\":\"CANTIDAD\"}, inplace=True)\n",
    "df_trep_partial1_1[\"PARTIDO\"] = \"VALOR UNIONISTA\"\n",
    "\n",
    "df_trep_partial1_2 = df_trep_partial1[[ \"CREO\", \"MESA\",\"CENTRO_DE_VOTACIÓN\"]].copy()\n",
    "df_trep_partial1_2.rename(columns={\"CREO\":\"CANTIDAD\"}, inplace=True)\n",
    "df_trep_partial1_2[\"PARTIDO\"] = \"CREO\"\n",
    "\n",
    "df_complete_trep = pd.concat([df_trep_partial1_1, df_trep_partial1_2]).reset_index(drop=True)\n",
    "df_complete_trep.columns = ['CANTIDAD_TREP', 'MESA', 'CENTRO_DE_VOTACIÓN', 'PARTIDO']\n",
    "df_complete_trep[\"CANTIDAD_TREP\"] = df_complete_trep[\"CANTIDAD_TREP\"].replace(\"--\", 0)\n",
    "df_complete_trep[\"CANTIDAD_TREP\"] = df_complete_trep[\"CANTIDAD_TREP\"].astype(int)"
   ],
   "metadata": {
    "collapsed": false,
    "ExecuteTime": {
     "start_time": "2023-06-30T20:57:12.401209Z",
     "end_time": "2023-06-30T20:57:12.422108Z"
    }
   }
  },
  {
   "cell_type": "code",
   "execution_count": 119,
   "outputs": [
    {
     "data": {
      "text/plain": "                 CANTIDAD_OCR  CENTRO_DE_VOTACIÓN     MESA\nPARTIDO                                                   \nCREO                   106323              152812  2047276\nVALOR UNIONISTA        106570              152812  2047276",
      "text/html": "<div>\n<style scoped>\n    .dataframe tbody tr th:only-of-type {\n        vertical-align: middle;\n    }\n\n    .dataframe tbody tr th {\n        vertical-align: top;\n    }\n\n    .dataframe thead th {\n        text-align: right;\n    }\n</style>\n<table border=\"1\" class=\"dataframe\">\n  <thead>\n    <tr style=\"text-align: right;\">\n      <th></th>\n      <th>CANTIDAD_OCR</th>\n      <th>CENTRO_DE_VOTACIÓN</th>\n      <th>MESA</th>\n    </tr>\n    <tr>\n      <th>PARTIDO</th>\n      <th></th>\n      <th></th>\n      <th></th>\n    </tr>\n  </thead>\n  <tbody>\n    <tr>\n      <th>CREO</th>\n      <td>106323</td>\n      <td>152812</td>\n      <td>2047276</td>\n    </tr>\n    <tr>\n      <th>VALOR UNIONISTA</th>\n      <td>106570</td>\n      <td>152812</td>\n      <td>2047276</td>\n    </tr>\n  </tbody>\n</table>\n</div>"
     },
     "execution_count": 119,
     "metadata": {},
     "output_type": "execute_result"
    }
   ],
   "source": [
    "df_complete_ocr.groupby([\"PARTIDO\"]).sum()"
   ],
   "metadata": {
    "collapsed": false,
    "ExecuteTime": {
     "start_time": "2023-06-30T20:57:42.413134Z",
     "end_time": "2023-06-30T20:57:42.421794Z"
    }
   }
  },
  {
   "cell_type": "code",
   "execution_count": 121,
   "outputs": [
    {
     "data": {
      "text/plain": "                 CANTIDAD_TREP     MESA  CENTRO_DE_VOTACIÓN\nPARTIDO                                                    \nCREO                    105698  2047276              152812\nVALOR UNIONISTA         106220  2047276              152812",
      "text/html": "<div>\n<style scoped>\n    .dataframe tbody tr th:only-of-type {\n        vertical-align: middle;\n    }\n\n    .dataframe tbody tr th {\n        vertical-align: top;\n    }\n\n    .dataframe thead th {\n        text-align: right;\n    }\n</style>\n<table border=\"1\" class=\"dataframe\">\n  <thead>\n    <tr style=\"text-align: right;\">\n      <th></th>\n      <th>CANTIDAD_TREP</th>\n      <th>MESA</th>\n      <th>CENTRO_DE_VOTACIÓN</th>\n    </tr>\n    <tr>\n      <th>PARTIDO</th>\n      <th></th>\n      <th></th>\n      <th></th>\n    </tr>\n  </thead>\n  <tbody>\n    <tr>\n      <th>CREO</th>\n      <td>105698</td>\n      <td>2047276</td>\n      <td>152812</td>\n    </tr>\n    <tr>\n      <th>VALOR UNIONISTA</th>\n      <td>106220</td>\n      <td>2047276</td>\n      <td>152812</td>\n    </tr>\n  </tbody>\n</table>\n</div>"
     },
     "execution_count": 121,
     "metadata": {},
     "output_type": "execute_result"
    }
   ],
   "source": [
    "df_complete_trep.groupby([\"PARTIDO\"]).sum()\n"
   ],
   "metadata": {
    "collapsed": false,
    "ExecuteTime": {
     "start_time": "2023-06-30T20:57:50.611814Z",
     "end_time": "2023-06-30T20:57:50.617703Z"
    }
   }
  },
  {
   "cell_type": "code",
   "execution_count": 126,
   "outputs": [
    {
     "data": {
      "text/plain": "              PARTIDO  CANTIDAD_OCR  CENTRO_DE_VOTACIÓN  MESA  CANTIDAD_TREP\n0     VALOR UNIONISTA            36                  94  1276             36\n1                CREO            67                  94  1276             67\n2     VALOR UNIONISTA            29                  33   425             29\n3                CREO            18                  33   425             18\n4     VALOR UNIONISTA           106                  83  1093            106\n...               ...           ...                 ...   ...            ...\n4041             CREO            62                  80  1022             62\n4042  VALOR UNIONISTA            29                 126  1782             29\n4043             CREO            70                 126  1782             70\n4044  VALOR UNIONISTA            49                  42   537             49\n4045             CREO            53                  42   537             53\n\n[4046 rows x 5 columns]",
      "text/html": "<div>\n<style scoped>\n    .dataframe tbody tr th:only-of-type {\n        vertical-align: middle;\n    }\n\n    .dataframe tbody tr th {\n        vertical-align: top;\n    }\n\n    .dataframe thead th {\n        text-align: right;\n    }\n</style>\n<table border=\"1\" class=\"dataframe\">\n  <thead>\n    <tr style=\"text-align: right;\">\n      <th></th>\n      <th>PARTIDO</th>\n      <th>CANTIDAD_OCR</th>\n      <th>CENTRO_DE_VOTACIÓN</th>\n      <th>MESA</th>\n      <th>CANTIDAD_TREP</th>\n    </tr>\n  </thead>\n  <tbody>\n    <tr>\n      <th>0</th>\n      <td>VALOR UNIONISTA</td>\n      <td>36</td>\n      <td>94</td>\n      <td>1276</td>\n      <td>36</td>\n    </tr>\n    <tr>\n      <th>1</th>\n      <td>CREO</td>\n      <td>67</td>\n      <td>94</td>\n      <td>1276</td>\n      <td>67</td>\n    </tr>\n    <tr>\n      <th>2</th>\n      <td>VALOR UNIONISTA</td>\n      <td>29</td>\n      <td>33</td>\n      <td>425</td>\n      <td>29</td>\n    </tr>\n    <tr>\n      <th>3</th>\n      <td>CREO</td>\n      <td>18</td>\n      <td>33</td>\n      <td>425</td>\n      <td>18</td>\n    </tr>\n    <tr>\n      <th>4</th>\n      <td>VALOR UNIONISTA</td>\n      <td>106</td>\n      <td>83</td>\n      <td>1093</td>\n      <td>106</td>\n    </tr>\n    <tr>\n      <th>...</th>\n      <td>...</td>\n      <td>...</td>\n      <td>...</td>\n      <td>...</td>\n      <td>...</td>\n    </tr>\n    <tr>\n      <th>4041</th>\n      <td>CREO</td>\n      <td>62</td>\n      <td>80</td>\n      <td>1022</td>\n      <td>62</td>\n    </tr>\n    <tr>\n      <th>4042</th>\n      <td>VALOR UNIONISTA</td>\n      <td>29</td>\n      <td>126</td>\n      <td>1782</td>\n      <td>29</td>\n    </tr>\n    <tr>\n      <th>4043</th>\n      <td>CREO</td>\n      <td>70</td>\n      <td>126</td>\n      <td>1782</td>\n      <td>70</td>\n    </tr>\n    <tr>\n      <th>4044</th>\n      <td>VALOR UNIONISTA</td>\n      <td>49</td>\n      <td>42</td>\n      <td>537</td>\n      <td>49</td>\n    </tr>\n    <tr>\n      <th>4045</th>\n      <td>CREO</td>\n      <td>53</td>\n      <td>42</td>\n      <td>537</td>\n      <td>53</td>\n    </tr>\n  </tbody>\n</table>\n<p>4046 rows × 5 columns</p>\n</div>"
     },
     "execution_count": 126,
     "metadata": {},
     "output_type": "execute_result"
    }
   ],
   "source": [
    "df_completo_con_ocr_y_trep = pd.merge(df_complete_ocr, df_complete_trep, on=[\"CENTRO_DE_VOTACIÓN\", \"MESA\", \"PARTIDO\"])\n",
    "df_completo_con_ocr_y_trep"
   ],
   "metadata": {
    "collapsed": false,
    "ExecuteTime": {
     "start_time": "2023-06-30T21:00:25.402474Z",
     "end_time": "2023-06-30T21:00:25.414212Z"
    }
   }
  },
  {
   "cell_type": "code",
   "execution_count": 127,
   "outputs": [],
   "source": [
    "df_completo_con_ocr_y_trep[\"DIFERENCIA\"] = df_completo_con_ocr_y_trep[\"CANTIDAD_OCR\"] - df_completo_con_ocr_y_trep[\"CANTIDAD_TREP\"]"
   ],
   "metadata": {
    "collapsed": false,
    "ExecuteTime": {
     "start_time": "2023-06-30T21:01:02.495266Z",
     "end_time": "2023-06-30T21:01:02.500183Z"
    }
   }
  },
  {
   "cell_type": "code",
   "execution_count": 130,
   "outputs": [],
   "source": [
    "df_final_diferencias = df_completo_con_ocr_y_trep[df_completo_con_ocr_y_trep[\"DIFERENCIA\"] != 0].copy()\n"
   ],
   "metadata": {
    "collapsed": false,
    "ExecuteTime": {
     "start_time": "2023-06-30T21:12:23.899364Z",
     "end_time": "2023-06-30T21:12:23.904483Z"
    }
   }
  },
  {
   "cell_type": "code",
   "execution_count": 132,
   "outputs": [],
   "source": [
    "df_final_diferencias.to_csv(\"/Users/rudikrompich/Git/analisis_tse_elecciones_2023/departamento/distrito_central/municipio/guatemala/corporacion_municipal/diferencias_ocr_trep/diferencias.csv\", index=False)"
   ],
   "metadata": {
    "collapsed": false,
    "ExecuteTime": {
     "start_time": "2023-06-30T21:47:55.602910Z",
     "end_time": "2023-06-30T21:47:55.610078Z"
    }
   }
  },
  {
   "cell_type": "code",
   "execution_count": null,
   "outputs": [],
   "source": [],
   "metadata": {
    "collapsed": false
   }
  }
 ],
 "metadata": {
  "kernelspec": {
   "display_name": "Python 3",
   "language": "python",
   "name": "python3"
  },
  "language_info": {
   "codemirror_mode": {
    "name": "ipython",
    "version": 2
   },
   "file_extension": ".py",
   "mimetype": "text/x-python",
   "name": "python",
   "nbconvert_exporter": "python",
   "pygments_lexer": "ipython2",
   "version": "2.7.6"
  }
 },
 "nbformat": 4,
 "nbformat_minor": 0
}
